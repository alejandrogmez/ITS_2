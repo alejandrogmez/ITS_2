{
 "cells": [
  {
   "cell_type": "markdown",
   "metadata": {},
   "source": [
    "# <h1><center>Workflow R</center></h1>\n",
    "\n",
    "# Processamento das leituras\n",
    "### Diretório de trabalho\n",
    "Especifique a rota da pasta onde você fará suas análises"
   ]
  },
  {
   "cell_type": "code",
   "execution_count": null,
   "metadata": {},
   "outputs": [],
   "source": [
    "setwd(\"~/Desktop/its"
   ]
  },
  {
   "cell_type": "markdown",
   "metadata": {},
   "source": [
    "### Pacotes\n",
    "Chame as librarias dos pacotes previamente isnstalados no R"
   ]
  },
  {
   "cell_type": "code",
   "execution_count": null,
   "metadata": {},
   "outputs": [],
   "source": [
    "library(\"dada2\")\n",
    "packageVersion(\"dada2\")\n",
    "library(\"ShortRead\")\n",
    "packageVersion(\"ShortRead\")\n",
    "library(\"Biostrings\")\n",
    "packageVersion(\"Biostrings\")\n",
    "library(\"ngsReports\")\n",
    "library(\"dplyr\")\n",
    "library(\"pander\")\n",
    "library(\"fastqcr\")"
   ]
  },
  {
   "cell_type": "markdown",
   "metadata": {},
   "source": [
    "## Listando as sequências na pasta\n",
    "Especifique a rota onde estão as sequências que serão análisadas"
   ]
  },
  {
   "cell_type": "code",
   "execution_count": null,
   "metadata": {},
   "outputs": [],
   "source": [
    "dir_seqs = file.path(\"~/Desktop/its_invasoras\")\n",
    "list.files(dir_seqs)"
   ]
  },
  {
   "cell_type": "markdown",
   "metadata": {},
   "source": [
    "## Padrão de reconhecimento \n",
    "Crie um padrão de reconhecimento para orientação das fitas forward e reverse"
   ]
  },
  {
   "cell_type": "code",
   "execution_count": null,
   "metadata": {},
   "outputs": [],
   "source": [
    "fita_f = sort(list.files(dir_seqs, pattern =\"R1_001.fastq.gz\", full.names = TRUE))\n",
    "fita_r = sort(list.files(dir_seqs, pattern =\"R2_001.fastq.gz\", full.names = TRUE))"
   ]
  },
  {
   "cell_type": "markdown",
   "metadata": {},
   "source": [
    "## Identifcando os primers nas leituras\n",
    "Neste caso para o experimento foram utilizados os seguintes primers:\n",
    "- FWD ITS_86$\\;\\;\\;$5′–GTGAATCATCGAATCTTTGAA–3′\n",
    "- REV ITS_4R$\\;\\;\\;$5′–TCCTCCGCTTATTGATATGC–3′"
   ]
  },
  {
   "cell_type": "code",
   "execution_count": null,
   "metadata": {},
   "outputs": [],
   "source": [
    "FWD = \"GTGAATCATCGAATCTTTGAA\"\n",
    "REV = \"TCCTCCGCTTATTGATATGC\""
   ]
  },
  {
   "cell_type": "markdown",
   "metadata": {},
   "source": [
    "- A seguinte função cria o complemento reverso da sequências dos primers especificados anteriormente"
   ]
  },
  {
   "cell_type": "code",
   "execution_count": null,
   "metadata": {},
   "outputs": [],
   "source": [
    "orient_primer <- function(primer) {\n",
    "   \n",
    "    require(Biostrings)\n",
    "    dna <- DNAString(primer) \n",
    "    orients <- c(Forward = dna, Complement = complement(dna), Reverse = reverse(dna), \n",
    "        RevComp = reverseComplement(dna))\n",
    "    return(sapply(orients, toString))  \n",
    "}\n",
    "FWD.orients <- orient_primer(FWD)\n",
    "REV.orients <- orient_primer(REV)\n",
    "FWD.orients"
   ]
  },
  {
   "cell_type": "markdown",
   "metadata": {},
   "source": [
    "- Agora será feito a remoção de bases ambiguas do tipo \"N\""
   ]
  },
  {
   "cell_type": "code",
   "execution_count": null,
   "metadata": {},
   "outputs": [],
   "source": [
    "fita_f.filtN <- file.path(dir_seqs, \"filtN\", basename(fita_f))\n",
    "fita_r.filtN <- file.path(dir_seqs, \"filtN\", basename(fita_r))\n",
    "filterAndTrim(fita_f, fita_f.filtN, fita_r, fita_r.filtN, maxN = 0, multithread = TRUE)"
   ]
  },
  {
   "cell_type": "markdown",
   "metadata": {},
   "source": [
    "- A seguinte função conta o numero de vezes que os primers foram encontrados nas leituras contrarias"
   ]
  },
  {
   "cell_type": "code",
   "execution_count": null,
   "metadata": {},
   "outputs": [],
   "source": [
    "primerHits <- function(primer, fn) {\n",
    "   \n",
    "    nhits <- vcountPattern(primer, sread(readFastq(fn)), fixed = FALSE)\n",
    "    return(sum(nhits > 0))\n",
    "}\n",
    "rbind(Leitura_F = sapply(FWD.orients, primerHits, fn = fita_f.filtN[[1]]), \n",
    "    Leitura_R = sapply(FWD.orients, primerHits, fn = fita_r.filtN[[1]]), \n",
    "    Leitura_F = sapply(REV.orients, primerHits, fn = fita_f.filtN[[1]]), \n",
    "    Leitura_R = sapply(REV.orients, primerHits, fn = fita_r.filtN[[1]]))"
   ]
  },
  {
   "cell_type": "markdown",
   "metadata": {},
   "source": [
    "## Removendo os primers das sequências\n",
    "- Instale primeiro cutadapt via terminal com seguinte comando\n",
    "<br>\n",
    "\"conda install -c bioconda cutadapt\"\n",
    "<br>\n",
    "- Especifique a rota de cutadapt para usar a ferramenta na interface do R"
   ]
  },
  {
   "cell_type": "code",
   "execution_count": null,
   "metadata": {},
   "outputs": [],
   "source": [
    "cutadapt <- \"/home/alejandro/anaconda3/bin/cutadapt\"\n",
    "system2(cutadapt, args = \"--version\")"
   ]
  },
  {
   "cell_type": "markdown",
   "metadata": {},
   "source": [
    "- criando a função para cortar os primers com cutadapt"
   ]
  },
  {
   "cell_type": "code",
   "execution_count": null,
   "metadata": {},
   "outputs": [],
   "source": [
    "dir_seqs.cut <- file.path(dir_seqs, \"cutadapt\")\n",
    "if(!dir.exists(dir_seqs.cut)) dir.create(dir_seqs.cut)\n",
    "fita_f.cut <- file.path(dir_seqs.cut, basename(fita_f))\n",
    "fita_r.cut <- file.path(dir_seqs.cut, basename(fita_r))\n",
    "\n",
    "FWD.RC <- dada2:::rc(FWD)\n",
    "REV.RC <- dada2:::rc(REV)\n",
    "\n",
    "R1.flags <- paste(\"-g\", FWD, \"-a\", REV.RC) \n",
    "\n",
    "R2.flags <- paste(\"-G\", REV, \"-A\", FWD.RC) \n",
    "\n",
    "for(i in seq_along(fita_f)) {\n",
    "  system2(cutadapt, args = c(R1.flags, R2.flags, \"-n\", 2,\n",
    "                             \"-o\", fita_f.cut[i], \"-p\", fita_r.cut[i], \n",
    "                             fita_f.filtN[i], fita_r.filtN[i])) \n",
    "}\n"
   ]
  },
  {
   "cell_type": "markdown",
   "metadata": {},
   "source": [
    "- checando se efitavamente os primers foram removidos das sequências"
   ]
  },
  {
   "cell_type": "code",
   "execution_count": null,
   "metadata": {},
   "outputs": [],
   "source": [
    "rbind(Leitura_F = sapply(FWD.orients, primerHits, fn = fita_f.cut[[1]]), \n",
    "    Leitura_R = sapply(FWD.orients, primerHits, fn = fita_r.cut[[1]]), \n",
    "    Leitura_F = sapply(REV.orients, primerHits, fn = fita_f.cut[[1]]), \n",
    "    Leitura_R = sapply(REV.orients, primerHits, fn = fita_r.cut[[1]]))"
   ]
  },
  {
   "cell_type": "markdown",
   "metadata": {},
   "source": [
    "- Manipulação strig para extrair o nome das amostras"
   ]
  },
  {
   "cell_type": "code",
   "execution_count": null,
   "metadata": {},
   "outputs": [],
   "source": [
    "cutFs <- sort(list.files(dir_seqs.cut, pattern = \"R1_001.fastq.gz\", full.names = TRUE))\n",
    "cutRs <- sort(list.files(dir_seqs.cut, pattern = \"R2_001.fastq.gz\", full.names = TRUE))"
   ]
  },
  {
   "cell_type": "code",
   "execution_count": null,
   "metadata": {},
   "outputs": [],
   "source": [
    "get.sample.name <- function(fname) strsplit(basename(fname), \"_\")[[1]][1]\n",
    "sample.names <- unname(sapply(cutFs, get.sample.name))\n",
    "head(sample.names)"
   ]
  },
  {
   "cell_type": "markdown",
   "metadata": {},
   "source": [
    "- Criando objetos para as fitas Forward e Reverse"
   ]
  },
  {
   "cell_type": "code",
   "execution_count": null,
   "metadata": {},
   "outputs": [],
   "source": [
    "filtFs <- file.path(dir_seqs.cut, \"filtered\", basename(cutFs))\n",
    "filtRs <- file.path(dir_seqs.cut, \"filtered\", basename(cutRs))"
   ]
  },
  {
   "cell_type": "markdown",
   "metadata": {},
   "source": [
    "# <h1><center> Inspeção de qualidade das librarias sequenciadas após filtragem</center></h1>"
   ]
  },
  {
   "cell_type": "markdown",
   "metadata": {},
   "source": [
    "- Aplicando filtros às leituras"
   ]
  },
  {
   "cell_type": "code",
   "execution_count": null,
   "metadata": {},
   "outputs": [],
   "source": [
    "seqs_fltrds <- filterAndTrim(cutFs, filtFs, cutRs, filtRs, maxN = 0, maxEE = c(2, 2), \n",
    "    truncQ = 2, minLen = 100, minQ= c(3,3), rm.phix = TRUE, compress = TRUE, multithread = TRUE)  \n",
    "head(seqs_fltrds)"
   ]
  },
  {
   "cell_type": "markdown",
   "metadata": {},
   "source": [
    "- inspeccionando as sequencias após filtragem"
   ]
  },
  {
   "cell_type": "code",
   "execution_count": null,
   "metadata": {},
   "outputs": [],
   "source": [
    "fastqc(fq.dir = \"~/Desktop/its_invasoras/cutadapt/filtered\", qc.dir = \"~/Desktop/its_invasoras/cutadapt/filtered/fastqc_rsltds\", threads = 4, fastqc.path = \"~/bin/FastQC/fastqc\")"
   ]
  },
  {
   "cell_type": "code",
   "execution_count": null,
   "metadata": {},
   "outputs": [],
   "source": [
    "seqs.dir = file.path(\"~/Desktop/its_invasoras/cutadapt/filtered\")\n",
    "seqs.list = list.files(seqs.dir, pattern = \"fastqc.zip$\", full.names = TRUE)\n",
    "seqs.list\n",
    "\n"
   ]
  },
  {
   "cell_type": "code",
   "execution_count": null,
   "metadata": {},
   "outputs": [],
   "source": [
    "seqs.report = FastqcDataList(seqs.list)\n",
    "leituras <- readTotals(seqs.report)\n",
    "leituras %>%\n",
    "    dplyr::filter(grepl(\"R1_001\", Filename)) %>% \n",
    "    pander(\n",
    "        big.mark = \",\",\n",
    "        caption = \"Total de Leituras p/fita forward\", \n",
    "        justify = \"lr\"\n",
    "    )"
   ]
  },
  {
   "cell_type": "code",
   "execution_count": null,
   "metadata": {},
   "outputs": [],
   "source": [
    "getModule(seqs.list[1], \"Sequence_Length_Distribution\")"
   ]
  },
  {
   "cell_type": "code",
   "execution_count": null,
   "metadata": {},
   "outputs": [],
   "source": [
    "plotBaseQuals(seqs.list[1], plotType = \"boxplot\" , usePlotly = F, boxWidth = 0.7)"
   ]
  },
  {
   "cell_type": "markdown",
   "metadata": {},
   "source": [
    "# <h1><center> Construindo o modelo de de erros</center></h1>"
   ]
  },
  {
   "cell_type": "code",
   "execution_count": null,
   "metadata": {},
   "outputs": [],
   "source": [
    "errF <- learnErrors(filtFs, multithread = TRUE)"
   ]
  },
  {
   "cell_type": "code",
   "execution_count": null,
   "metadata": {},
   "outputs": [],
   "source": [
    "plotErrors(errF, nominalQ = TRUE)"
   ]
  },
  {
   "cell_type": "markdown",
   "metadata": {},
   "source": [
    "## Derreplicando sequencias"
   ]
  },
  {
   "cell_type": "code",
   "execution_count": null,
   "metadata": {},
   "outputs": [],
   "source": [
    "derepFs <- derepFastq(filtFs, verbose = TRUE)\n",
    "# Name the derep-class objects by the sample names\n",
    "names(derepFs) <- sample.names\n"
   ]
  },
  {
   "cell_type": "markdown",
   "metadata": {},
   "source": [
    "## Inferência das amostras"
   ]
  },
  {
   "cell_type": "code",
   "execution_count": null,
   "metadata": {},
   "outputs": [],
   "source": [
    "dadaFs <- dada(derepFs, err = errF, multithread = TRUE)"
   ]
  },
  {
   "cell_type": "markdown",
   "metadata": {},
   "source": [
    "## Construindo a tabela"
   ]
  },
  {
   "cell_type": "code",
   "execution_count": null,
   "metadata": {},
   "outputs": [],
   "source": [
    "seqtab <- makeSequenceTable(dadaFs)\n",
    "dim(seqtab)"
   ]
  },
  {
   "cell_type": "markdown",
   "metadata": {},
   "source": [
    "## Removendo as qimeras"
   ]
  },
  {
   "cell_type": "code",
   "execution_count": null,
   "metadata": {},
   "outputs": [],
   "source": [
    "seqtab.nochim <- removeBimeraDenovo(seqtab, method=\"consensus\", multithread=TRUE, verbose=TRUE)"
   ]
  },
  {
   "cell_type": "markdown",
   "metadata": {},
   "source": [
    "- olhando a distribuição dos tamanhos das sequências"
   ]
  },
  {
   "cell_type": "code",
   "execution_count": null,
   "metadata": {},
   "outputs": [],
   "source": [
    "table(nchar(getSequences(seqtab.nochim)))"
   ]
  },
  {
   "cell_type": "markdown",
   "metadata": {},
   "source": [
    "## Estatisticas gerais"
   ]
  },
  {
   "cell_type": "code",
   "execution_count": null,
   "metadata": {},
   "outputs": [],
   "source": [
    "getN <- function(x) sum(getUniques(x))\n",
    "track <- cbind(seqs_fltrds, sapply(dadaFs, getN), rowSums(seqtab.nochim))\n",
    "\n",
    "colnames(track) <- c(\"Seqs/entrada\", \"Seqs/filtradas\", \"SeqsF/denoised\",\"Seqs/não quimeras\")\n",
    "rownames(track) <- sample.names\n",
    "head(track)"
   ]
  },
  {
   "cell_type": "markdown",
   "metadata": {},
   "source": [
    "# <h1><center>Workflow QIIME 2</center></h1>"
   ]
  },
  {
   "cell_type": "markdown",
   "metadata": {},
   "source": [
    "## Exportando a tabela para QIIME 2"
   ]
  },
  {
   "cell_type": "markdown",
   "metadata": {},
   "source": [
    "- Tabela de frequência"
   ]
  },
  {
   "cell_type": "code",
   "execution_count": null,
   "metadata": {},
   "outputs": [],
   "source": [
    "write.table(t(seqtab.nochim), \"dada2_analysis_seqtab_nochim.txt\", sep=\"\\t\", row.names=TRUE, col.names=NA, quote=FALSE)"
   ]
  },
  {
   "cell_type": "markdown",
   "metadata": {},
   "source": [
    "- Sequências"
   ]
  },
  {
   "cell_type": "code",
   "execution_count": null,
   "metadata": {},
   "outputs": [],
   "source": [
    "uniquesToFasta(seqtab.nochim, fout='dada2_analysis_rep_seqs.fna', ids=colnames(seqtab.nochim))"
   ]
  },
  {
   "cell_type": "markdown",
   "metadata": {},
   "source": [
    "## Importando a tabela e sequências para QIIME2\n",
    "### Comandos para QIIME2 comand interface"
   ]
  },
  {
   "cell_type": "markdown",
   "metadata": {},
   "source": [
    "- Fazendo a conversão da tabela em formato .biom"
   ]
  },
  {
   "cell_type": "code",
   "execution_count": null,
   "metadata": {},
   "outputs": [],
   "source": [
    "echo -n \"#AVS Table\" | cat - dada2_analysis_seqtab_nochim.txt > dada2_analysis_biom_table.txt"
   ]
  },
  {
   "cell_type": "code",
   "execution_count": null,
   "metadata": {},
   "outputs": [],
   "source": [
    "biom convert -i dada2_analysis_biom_table.txt -o dada2_analysis_table.biom --table-type=\"OTU table\" --to-hdf5"
   ]
  },
  {
   "cell_type": "markdown",
   "metadata": {},
   "source": [
    "### Importando a tabela em um artefato .qza"
   ]
  },
  {
   "cell_type": "code",
   "execution_count": null,
   "metadata": {},
   "outputs": [],
   "source": [
    "qiime tools import \\\n",
    "--input-path dada2_analysis_table.biom \\\n",
    "--type 'FeatureTable[Frequency]' \\\n",
    "--input-format BIOMV210Format \\\n",
    "--output-path table.qza\n"
   ]
  },
  {
   "cell_type": "markdown",
   "metadata": {},
   "source": [
    "### Importando as sequências processadas em um artefato .qza"
   ]
  },
  {
   "cell_type": "code",
   "execution_count": null,
   "metadata": {},
   "outputs": [],
   "source": [
    "qiime tools import \\\n",
    "--input-path dada2_analysis_rep_seqs.fna \\\n",
    "--type 'FeatureData[Sequence]' \\\n",
    "--output-path rep-seqs.qza"
   ]
  },
  {
   "cell_type": "markdown",
   "metadata": {},
   "source": [
    "### Importando a base de dados de referência UNITE (99) para classificação taxonômica das sequências"
   ]
  },
  {
   "cell_type": "markdown",
   "metadata": {},
   "source": [
    "- Importando as sequências de referência em um artefato .qza"
   ]
  },
  {
   "cell_type": "code",
   "execution_count": null,
   "metadata": {},
   "outputs": [],
   "source": [
    "qiime tools import \\\n",
    "  --type 'FeatureData[Sequence]' \\\n",
    "  --input-path sh_refs_qiime_ver8_99_s_02.02.2019.fasta \\\n",
    "  --output-path unite_seqs_99.qza"
   ]
  },
  {
   "cell_type": "markdown",
   "metadata": {},
   "source": [
    "- Importando as etiquetas taxonômicas das sequências de referência em um artefato .qza"
   ]
  },
  {
   "cell_type": "code",
   "execution_count": null,
   "metadata": {},
   "outputs": [],
   "source": [
    "qiime tools import \\\n",
    "  --type 'FeatureData[Taxonomy]' \\\n",
    "  --input-format HeaderlessTSVTaxonomyFormat \\\n",
    "  --input-path sh_taxonomy_qiime_ver8_99_s_02.02.2019.txt \\\n",
    "  --output-path ref_taxonomy_unite_99.qza"
   ]
  },
  {
   "cell_type": "markdown",
   "metadata": {},
   "source": [
    "### Criando e treinando o classificador em CYVERSE"
   ]
  },
  {
   "cell_type": "markdown",
   "metadata": {},
   "source": [
    "- Importando artefatos de sequências de referência e taxonômia para treinar o classificador "
   ]
  },
  {
   "cell_type": "code",
   "execution_count": null,
   "metadata": {},
   "outputs": [],
   "source": [
    "!qiime feature-classifier fit-classifier-naive-bayes \\\n",
    "  --i-reference-reads unite_seqs_99.qza \\\n",
    "  --i-reference-taxonomy ref_taxonomy_unite_99.qza \\\n",
    "  --o-classifier classifier_unite_99.qza"
   ]
  },
  {
   "cell_type": "markdown",
   "metadata": {},
   "source": [
    "- Classificando as sequências do experimento"
   ]
  },
  {
   "cell_type": "code",
   "execution_count": null,
   "metadata": {},
   "outputs": [],
   "source": [
    "!qiime feature-classifier classify-sklearn \\\n",
    "  --i-classifier classifier_unite_99.qza \\\n",
    "  --i-reads rep-seqs.qza \\\n",
    "  --o-classification taxonomy.qza"
   ]
  },
  {
   "cell_type": "markdown",
   "metadata": {},
   "source": [
    "## Gráfico barplot de abundância relativa"
   ]
  },
  {
   "cell_type": "code",
   "execution_count": null,
   "metadata": {},
   "outputs": [],
   "source": [
    "!qiime taxa barplot \\\n",
    "  --i-table table.qza \\\n",
    "  --i-taxonomy taxonomy.qza \\\n",
    "  --m-metadata-file sample-metadata.tsv \\\n",
    "  --o-visualization taxa-bar-plots.qzv"
   ]
  }
 ],
 "metadata": {
  "kernelspec": {
   "display_name": "Python 3",
   "language": "python",
   "name": "python3"
  },
  "language_info": {
   "codemirror_mode": {
    "name": "ipython",
    "version": 3
   },
   "file_extension": ".py",
   "mimetype": "text/x-python",
   "name": "python",
   "nbconvert_exporter": "python",
   "pygments_lexer": "ipython3",
   "version": "3.7.4"
  }
 },
 "nbformat": 4,
 "nbformat_minor": 4
}
